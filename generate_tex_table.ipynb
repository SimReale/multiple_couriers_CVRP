{
 "cells": [
  {
   "cell_type": "code",
   "execution_count": null,
   "metadata": {},
   "outputs": [
    {
     "name": "stdout",
     "output_type": "stream",
     "text": [
      "   implied_scip implied_highs implied_gurobi       sb_scip      sb_highs  \\\n",
      "1   \\textbf{14}   \\textbf{14}    \\textbf{14}   \\textbf{14}   \\textbf{14}   \n",
      "2  \\textbf{226}  \\textbf{226}   \\textbf{226}  \\textbf{226}  \\textbf{226}   \n",
      "3   \\textbf{12}   \\textbf{12}    \\textbf{12}   \\textbf{12}   \\textbf{12}   \n",
      "4  \\textbf{220}  \\textbf{220}   \\textbf{220}  \\textbf{220}  \\textbf{220}   \n",
      "\n",
      "      sb_gurobi     base_scip    base_highs   base_gurobi  \n",
      "1   \\textbf{14}   \\textbf{14}   \\textbf{14}   \\textbf{14}  \n",
      "2  \\textbf{226}  \\textbf{226}  \\textbf{226}  \\textbf{226}  \n",
      "3   \\textbf{12}   \\textbf{12}   \\textbf{12}   \\textbf{12}  \n",
      "4  \\textbf{220}  \\textbf{220}  \\textbf{220}  \\textbf{220}  \n"
     ]
    }
   ],
   "source": [
    "import json\n",
    "import os\n",
    "import pandas as pd\n",
    "\n",
    "approach_list = [\n",
    "    #'CP',\n",
    "    #'SAT',\n",
    "    #'SMT',\n",
    "    'MIP'\n",
    "]\n",
    "directory = 'results/'\n",
    "for approach in approach_list:\n",
    "    file_list = os.listdir(directory + approach)\n",
    "    data = {}\n",
    "    for file_number, file_name in enumerate(file_list, 1):\n",
    "        with open(f'{directory + approach}/{file_name}', \"r\") as f:\n",
    "            file_json = json.load(f)\n",
    "        for method_name in file_json:\n",
    "            \n",
    "            optimal = file_json[method_name][\"optimal\"]\n",
    "\n",
    "            if optimal:\n",
    "                obj_value = f'\\\\textbf{{{file_json[method_name][\"obj\"]}}}'\n",
    "            else:\n",
    "                obj_value = file_json[method_name][\"obj\"]\n",
    "\n",
    "            if method_name in data:\n",
    "                data[method_name].append(obj_value)\n",
    "            else:\n",
    "                data[method_name] = [obj_value]\n",
    "    \n",
    "    df = pd.DataFrame(data, index=range(1, len(file_list)+1))\n",
    "    latex_table = df.to_latex(index=True, column_format=\"|c|c|\", escape=False)\n",
    "    with open(\"output_table.tex\", \"w\") as f:\n",
    "        f.write(latex_table)"
   ]
  }
 ],
 "metadata": {
  "kernelspec": {
   "display_name": ".venv",
   "language": "python",
   "name": "python3"
  },
  "language_info": {
   "codemirror_mode": {
    "name": "ipython",
    "version": 3
   },
   "file_extension": ".py",
   "mimetype": "text/x-python",
   "name": "python",
   "nbconvert_exporter": "python",
   "pygments_lexer": "ipython3",
   "version": "3.10.2"
  }
 },
 "nbformat": 4,
 "nbformat_minor": 2
}
